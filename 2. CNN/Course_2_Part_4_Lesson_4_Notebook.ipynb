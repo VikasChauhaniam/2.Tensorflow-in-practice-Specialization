{
  "nbformat": 4,
  "nbformat_minor": 0,
  "metadata": {
    "accelerator": "GPU",
    "colab": {
      "name": "Course 2 - Part 4 - Lesson 4 - Notebook.ipynb",
      "provenance": [],
      "collapsed_sections": [],
      "toc_visible": true
    },
    "kernelspec": {
      "display_name": "Python 3",
      "name": "python3"
    }
  },
  "cells": [
    {
      "cell_type": "markdown",
      "metadata": {
        "id": "rX8mhOLljYeM"
      },
      "source": [
        "##### Copyright 2019 The TensorFlow Authors."
      ]
    },
    {
      "cell_type": "code",
      "metadata": {
        "cellView": "form",
        "id": "BZSlp3DAjdYf"
      },
      "source": [
        "#@title Licensed under the Apache License, Version 2.0 (the \"License\");\n",
        "# you may not use this file except in compliance with the License.\n",
        "# You may obtain a copy of the License at\n",
        "#\n",
        "# https://www.apache.org/licenses/LICENSE-2.0\n",
        "#\n",
        "# Unless required by applicable law or agreed to in writing, software\n",
        "# distributed under the License is distributed on an \"AS IS\" BASIS,\n",
        "# WITHOUT WARRANTIES OR CONDITIONS OF ANY KIND, either express or implied.\n",
        "# See the License for the specific language governing permissions and\n",
        "# limitations under the License."
      ],
      "execution_count": null,
      "outputs": []
    },
    {
      "cell_type": "code",
      "metadata": {
        "colab": {
          "base_uri": "https://localhost:8080/"
        },
        "id": "RXZT2UsyIVe_",
        "outputId": "4e607168-abc7-4ef9-ed70-f6d22b1ede23"
      },
      "source": [
        "!wget --no-check-certificate \\\n",
        "    https://storage.googleapis.com/laurencemoroney-blog.appspot.com/horse-or-human.zip \\\n",
        "    -O /tmp/horse-or-human.zip\n",
        "\n",
        "!wget --no-check-certificate \\\n",
        "    https://storage.googleapis.com/laurencemoroney-blog.appspot.com/validation-horse-or-human.zip \\\n",
        "    -O /tmp/validation-horse-or-human.zip\n",
        "  \n",
        "import os\n",
        "import zipfile\n",
        "\n",
        "local_zip = '/tmp/horse-or-human.zip'\n",
        "zip_ref = zipfile.ZipFile(local_zip, 'r')\n",
        "zip_ref.extractall('/tmp/horse-or-human')\n",
        "local_zip = '/tmp/validation-horse-or-human.zip'\n",
        "zip_ref = zipfile.ZipFile(local_zip, 'r')\n",
        "zip_ref.extractall('/tmp/validation-horse-or-human')\n",
        "zip_ref.close()\n",
        "# Directory with our training horse pictures\n",
        "train_horse_dir = os.path.join('/tmp/horse-or-human/horses')\n",
        "\n",
        "# Directory with our training human pictures\n",
        "train_human_dir = os.path.join('/tmp/horse-or-human/humans')\n",
        "\n",
        "# Directory with our training horse pictures\n",
        "validation_horse_dir = os.path.join('/tmp/validation-horse-or-human/horses')\n",
        "\n",
        "# Directory with our training human pictures\n",
        "validation_human_dir = os.path.join('/tmp/validation-horse-or-human/humans')"
      ],
      "execution_count": 1,
      "outputs": [
        {
          "output_type": "stream",
          "text": [
            "--2021-06-23 16:56:03--  https://storage.googleapis.com/laurencemoroney-blog.appspot.com/horse-or-human.zip\n",
            "Resolving storage.googleapis.com (storage.googleapis.com)... 173.194.202.128, 74.125.20.128, 108.177.98.128, ...\n",
            "Connecting to storage.googleapis.com (storage.googleapis.com)|173.194.202.128|:443... connected.\n",
            "HTTP request sent, awaiting response... 200 OK\n",
            "Length: 149574867 (143M) [application/zip]\n",
            "Saving to: ‘/tmp/horse-or-human.zip’\n",
            "\n",
            "/tmp/horse-or-human 100%[===================>] 142.65M  99.4MB/s    in 1.4s    \n",
            "\n",
            "2021-06-23 16:56:05 (99.4 MB/s) - ‘/tmp/horse-or-human.zip’ saved [149574867/149574867]\n",
            "\n",
            "--2021-06-23 16:56:05--  https://storage.googleapis.com/laurencemoroney-blog.appspot.com/validation-horse-or-human.zip\n",
            "Resolving storage.googleapis.com (storage.googleapis.com)... 74.125.195.128, 108.177.98.128, 74.125.135.128, ...\n",
            "Connecting to storage.googleapis.com (storage.googleapis.com)|74.125.195.128|:443... connected.\n",
            "HTTP request sent, awaiting response... 200 OK\n",
            "Length: 11480187 (11M) [application/zip]\n",
            "Saving to: ‘/tmp/validation-horse-or-human.zip’\n",
            "\n",
            "/tmp/validation-hor 100%[===================>]  10.95M  21.1MB/s    in 0.5s    \n",
            "\n",
            "2021-06-23 16:56:06 (21.1 MB/s) - ‘/tmp/validation-horse-or-human.zip’ saved [11480187/11480187]\n",
            "\n"
          ],
          "name": "stdout"
        }
      ]
    },
    {
      "cell_type": "markdown",
      "metadata": {
        "id": "5oqBkNBJmtUv"
      },
      "source": [
        "## Building a Small Model from Scratch\n",
        "\n",
        "But before we continue, let's start defining the model:\n",
        "\n",
        "Step 1 will be to import tensorflow."
      ]
    },
    {
      "cell_type": "code",
      "metadata": {
        "id": "qvfZg3LQbD-5"
      },
      "source": [
        "import tensorflow as tf"
      ],
      "execution_count": 2,
      "outputs": []
    },
    {
      "cell_type": "markdown",
      "metadata": {
        "id": "BnhYCP4tdqjC"
      },
      "source": [
        "We then add convolutional layers as in the previous example, and flatten the final result to feed into the densely connected layers."
      ]
    },
    {
      "cell_type": "markdown",
      "metadata": {
        "id": "gokG5HKpdtzm"
      },
      "source": [
        "Finally we add the densely connected layers. \n",
        "\n",
        "Note that because we are facing a two-class classification problem, i.e. a *binary classification problem*, we will end our network with a [*sigmoid* activation](https://wikipedia.org/wiki/Sigmoid_function), so that the output of our network will be a single scalar between 0 and 1, encoding the probability that the current image is class 1 (as opposed to class 0)."
      ]
    },
    {
      "cell_type": "code",
      "metadata": {
        "id": "PixZ2s5QbYQ3"
      },
      "source": [
        "model = tf.keras.models.Sequential([\n",
        "    # Note the input shape is the desired size of the image 300x300 with 3 bytes color\n",
        "    # This is the first convolution\n",
        "    tf.keras.layers.Conv2D(16, (3,3), activation='relu', input_shape=(300, 300, 3)),\n",
        "    tf.keras.layers.MaxPooling2D(2, 2),\n",
        "    # The second convolution\n",
        "    tf.keras.layers.Conv2D(32, (3,3), activation='relu'),\n",
        "    tf.keras.layers.MaxPooling2D(2,2),\n",
        "    # The third convolution\n",
        "    tf.keras.layers.Conv2D(64, (3,3), activation='relu'),\n",
        "    tf.keras.layers.MaxPooling2D(2,2),\n",
        "    # The fourth convolution\n",
        "    tf.keras.layers.Conv2D(64, (3,3), activation='relu'),\n",
        "    tf.keras.layers.MaxPooling2D(2,2),\n",
        "    # The fifth convolution\n",
        "    tf.keras.layers.Conv2D(64, (3,3), activation='relu'),\n",
        "    tf.keras.layers.MaxPooling2D(2,2),\n",
        "    # Flatten the results to feed into a DNN\n",
        "    tf.keras.layers.Flatten(),\n",
        "    # 512 neuron hidden layer\n",
        "    tf.keras.layers.Dense(512, activation='relu'),\n",
        "    # Only 1 output neuron. It will contain a value from 0-1 where 0 for 1 class ('horses') and 1 for the other ('humans')\n",
        "    tf.keras.layers.Dense(1, activation='sigmoid')\n",
        "])"
      ],
      "execution_count": 3,
      "outputs": []
    },
    {
      "cell_type": "code",
      "metadata": {
        "colab": {
          "base_uri": "https://localhost:8080/"
        },
        "id": "8DHWhFP_uhq3",
        "outputId": "5563c2ce-d334-46bd-8134-02b06f2ef8b0"
      },
      "source": [
        "from tensorflow.keras.optimizers import RMSprop\n",
        "\n",
        "model.compile(loss='binary_crossentropy',\n",
        "              optimizer=RMSprop(lr=1e-4),\n",
        "              metrics=['accuracy'])"
      ],
      "execution_count": 4,
      "outputs": [
        {
          "output_type": "stream",
          "text": [
            "/usr/local/lib/python3.7/dist-packages/tensorflow/python/keras/optimizer_v2/optimizer_v2.py:375: UserWarning: The `lr` argument is deprecated, use `learning_rate` instead.\n",
            "  \"The `lr` argument is deprecated, use `learning_rate` instead.\")\n"
          ],
          "name": "stderr"
        }
      ]
    },
    {
      "cell_type": "code",
      "metadata": {
        "colab": {
          "base_uri": "https://localhost:8080/"
        },
        "id": "ClebU9NJg99G",
        "outputId": "a1d3d4b9-83e4-47c9-9667-3da5aaf6c6a2"
      },
      "source": [
        "from tensorflow.keras.preprocessing.image import ImageDataGenerator\n",
        "\n",
        "# All images will be rescaled by 1./255\n",
        "train_datagen = ImageDataGenerator(\n",
        "      rescale=1./255,\n",
        "      rotation_range=40,\n",
        "      width_shift_range=0.2,\n",
        "      height_shift_range=0.2,\n",
        "      shear_range=0.2,\n",
        "      zoom_range=0.2,\n",
        "      horizontal_flip=True,\n",
        "      fill_mode='nearest')\n",
        "\n",
        "validation_datagen = ImageDataGenerator(rescale=1/255)\n",
        "\n",
        "# Flow training images in batches of 128 using train_datagen generator\n",
        "train_generator = train_datagen.flow_from_directory(\n",
        "        '/tmp/horse-or-human/',  # This is the source directory for training images\n",
        "        target_size=(300, 300),  # All images will be resized to 150x150\n",
        "        batch_size=128,\n",
        "        # Since we use binary_crossentropy loss, we need binary labels\n",
        "        class_mode='binary')\n",
        "\n",
        "# Flow training images in batches of 128 using train_datagen generator\n",
        "validation_generator = validation_datagen.flow_from_directory(\n",
        "        '/tmp/validation-horse-or-human/',  # This is the source directory for training images\n",
        "        target_size=(300, 300),  # All images will be resized to 150x150\n",
        "        batch_size=32,\n",
        "        # Since we use binary_crossentropy loss, we need binary labels\n",
        "        class_mode='binary')"
      ],
      "execution_count": 6,
      "outputs": [
        {
          "output_type": "stream",
          "text": [
            "Found 1027 images belonging to 2 classes.\n",
            "Found 256 images belonging to 2 classes.\n"
          ],
          "name": "stdout"
        }
      ]
    },
    {
      "cell_type": "code",
      "metadata": {
        "colab": {
          "base_uri": "https://localhost:8080/"
        },
        "id": "Fb1_lgobv81m",
        "outputId": "8c8414e5-0615-48c4-dc17-3a070a7337a8"
      },
      "source": [
        "history = model.fit(\n",
        "      train_generator,\n",
        "      steps_per_epoch=8,  \n",
        "      epochs=100,\n",
        "      verbose=1,\n",
        "      validation_data = validation_generator,\n",
        "      validation_steps=8)"
      ],
      "execution_count": 7,
      "outputs": [
        {
          "output_type": "stream",
          "text": [
            "Epoch 1/100\n",
            "8/8 [==============================] - 52s 2s/step - loss: 0.6821 - accuracy: 0.5339 - val_loss: 0.7016 - val_accuracy: 0.5000\n",
            "Epoch 2/100\n",
            "8/8 [==============================] - 20s 2s/step - loss: 0.6707 - accuracy: 0.5795 - val_loss: 0.6604 - val_accuracy: 0.5352\n",
            "Epoch 3/100\n",
            "8/8 [==============================] - 20s 2s/step - loss: 0.6259 - accuracy: 0.6796 - val_loss: 0.6781 - val_accuracy: 0.5352\n",
            "Epoch 4/100\n",
            "8/8 [==============================] - 20s 3s/step - loss: 0.5906 - accuracy: 0.6919 - val_loss: 0.6308 - val_accuracy: 0.5977\n",
            "Epoch 5/100\n",
            "8/8 [==============================] - 20s 2s/step - loss: 0.5467 - accuracy: 0.7319 - val_loss: 0.8845 - val_accuracy: 0.5195\n",
            "Epoch 6/100\n",
            "8/8 [==============================] - 20s 2s/step - loss: 0.5555 - accuracy: 0.7364 - val_loss: 0.7856 - val_accuracy: 0.5391\n",
            "Epoch 7/100\n",
            "8/8 [==============================] - 20s 3s/step - loss: 0.5131 - accuracy: 0.7519 - val_loss: 0.7200 - val_accuracy: 0.6016\n",
            "Epoch 8/100\n",
            "8/8 [==============================] - 20s 2s/step - loss: 0.5252 - accuracy: 0.7408 - val_loss: 0.9181 - val_accuracy: 0.5547\n",
            "Epoch 9/100\n",
            "8/8 [==============================] - 20s 2s/step - loss: 0.5121 - accuracy: 0.7542 - val_loss: 1.1267 - val_accuracy: 0.5273\n",
            "Epoch 10/100\n",
            "8/8 [==============================] - 20s 2s/step - loss: 0.5048 - accuracy: 0.7475 - val_loss: 0.8769 - val_accuracy: 0.5859\n",
            "Epoch 11/100\n",
            "8/8 [==============================] - 20s 2s/step - loss: 0.5590 - accuracy: 0.7264 - val_loss: 0.8979 - val_accuracy: 0.5898\n",
            "Epoch 12/100\n",
            "8/8 [==============================] - 20s 2s/step - loss: 0.4950 - accuracy: 0.7553 - val_loss: 1.2620 - val_accuracy: 0.5391\n",
            "Epoch 13/100\n",
            "8/8 [==============================] - 22s 3s/step - loss: 0.4685 - accuracy: 0.7773 - val_loss: 0.8872 - val_accuracy: 0.6094\n",
            "Epoch 14/100\n",
            "8/8 [==============================] - 20s 2s/step - loss: 0.4781 - accuracy: 0.7653 - val_loss: 0.7680 - val_accuracy: 0.6484\n",
            "Epoch 15/100\n",
            "8/8 [==============================] - 20s 2s/step - loss: 0.5169 - accuracy: 0.7564 - val_loss: 1.0420 - val_accuracy: 0.5898\n",
            "Epoch 16/100\n",
            "8/8 [==============================] - 20s 2s/step - loss: 0.4420 - accuracy: 0.7775 - val_loss: 1.2049 - val_accuracy: 0.5742\n",
            "Epoch 17/100\n",
            "8/8 [==============================] - 20s 2s/step - loss: 0.4602 - accuracy: 0.7842 - val_loss: 0.9324 - val_accuracy: 0.6055\n",
            "Epoch 18/100\n",
            "8/8 [==============================] - 20s 2s/step - loss: 0.4511 - accuracy: 0.7953 - val_loss: 0.9185 - val_accuracy: 0.6328\n",
            "Epoch 19/100\n",
            "8/8 [==============================] - 20s 2s/step - loss: 0.4548 - accuracy: 0.7764 - val_loss: 0.9339 - val_accuracy: 0.6094\n",
            "Epoch 20/100\n",
            "8/8 [==============================] - 20s 2s/step - loss: 0.4077 - accuracy: 0.8065 - val_loss: 0.2692 - val_accuracy: 0.9141\n",
            "Epoch 21/100\n",
            "8/8 [==============================] - 20s 2s/step - loss: 0.5194 - accuracy: 0.7620 - val_loss: 1.1109 - val_accuracy: 0.6016\n",
            "Epoch 22/100\n",
            "8/8 [==============================] - 20s 2s/step - loss: 0.4043 - accuracy: 0.8187 - val_loss: 0.9842 - val_accuracy: 0.6523\n",
            "Epoch 23/100\n",
            "8/8 [==============================] - 22s 3s/step - loss: 0.4120 - accuracy: 0.8193 - val_loss: 1.1131 - val_accuracy: 0.6328\n",
            "Epoch 24/100\n",
            "8/8 [==============================] - 20s 2s/step - loss: 0.4199 - accuracy: 0.8009 - val_loss: 1.2743 - val_accuracy: 0.5977\n",
            "Epoch 25/100\n",
            "8/8 [==============================] - 20s 3s/step - loss: 0.4146 - accuracy: 0.7920 - val_loss: 0.9625 - val_accuracy: 0.6680\n",
            "Epoch 26/100\n",
            "8/8 [==============================] - 20s 2s/step - loss: 0.4339 - accuracy: 0.8098 - val_loss: 1.1061 - val_accuracy: 0.6406\n",
            "Epoch 27/100\n",
            "8/8 [==============================] - 20s 3s/step - loss: 0.4060 - accuracy: 0.8020 - val_loss: 1.2776 - val_accuracy: 0.6289\n",
            "Epoch 28/100\n",
            "8/8 [==============================] - 20s 2s/step - loss: 0.3806 - accuracy: 0.8287 - val_loss: 1.6645 - val_accuracy: 0.5742\n",
            "Epoch 29/100\n",
            "8/8 [==============================] - 20s 3s/step - loss: 0.3878 - accuracy: 0.8287 - val_loss: 1.2456 - val_accuracy: 0.6406\n",
            "Epoch 30/100\n",
            "8/8 [==============================] - 20s 2s/step - loss: 0.3824 - accuracy: 0.8320 - val_loss: 1.1790 - val_accuracy: 0.6523\n",
            "Epoch 31/100\n",
            "8/8 [==============================] - 22s 3s/step - loss: 0.3563 - accuracy: 0.8447 - val_loss: 1.2384 - val_accuracy: 0.6523\n",
            "Epoch 32/100\n",
            "8/8 [==============================] - 20s 2s/step - loss: 0.4104 - accuracy: 0.7964 - val_loss: 1.1174 - val_accuracy: 0.6602\n",
            "Epoch 33/100\n",
            "8/8 [==============================] - 20s 2s/step - loss: 0.3523 - accuracy: 0.8387 - val_loss: 1.2072 - val_accuracy: 0.6484\n",
            "Epoch 34/100\n",
            "8/8 [==============================] - 20s 2s/step - loss: 0.3448 - accuracy: 0.8509 - val_loss: 1.1531 - val_accuracy: 0.6602\n",
            "Epoch 35/100\n",
            "8/8 [==============================] - 20s 2s/step - loss: 0.3498 - accuracy: 0.8454 - val_loss: 0.5224 - val_accuracy: 0.8281\n",
            "Epoch 36/100\n",
            "8/8 [==============================] - 20s 2s/step - loss: 0.4634 - accuracy: 0.8065 - val_loss: 1.0171 - val_accuracy: 0.6875\n",
            "Epoch 37/100\n",
            "8/8 [==============================] - 20s 2s/step - loss: 0.3283 - accuracy: 0.8676 - val_loss: 1.0952 - val_accuracy: 0.6836\n",
            "Epoch 38/100\n",
            "8/8 [==============================] - 20s 2s/step - loss: 0.3410 - accuracy: 0.8476 - val_loss: 1.5696 - val_accuracy: 0.6328\n",
            "Epoch 39/100\n",
            "8/8 [==============================] - 22s 3s/step - loss: 0.3266 - accuracy: 0.8672 - val_loss: 1.7431 - val_accuracy: 0.5938\n",
            "Epoch 40/100\n",
            "8/8 [==============================] - 20s 2s/step - loss: 0.2981 - accuracy: 0.8776 - val_loss: 1.2895 - val_accuracy: 0.6602\n",
            "Epoch 41/100\n",
            "8/8 [==============================] - 20s 2s/step - loss: 0.3073 - accuracy: 0.8788 - val_loss: 0.6869 - val_accuracy: 0.7695\n",
            "Epoch 42/100\n",
            "8/8 [==============================] - 20s 2s/step - loss: 0.3474 - accuracy: 0.8432 - val_loss: 1.4416 - val_accuracy: 0.6523\n",
            "Epoch 43/100\n",
            "8/8 [==============================] - 20s 3s/step - loss: 0.3376 - accuracy: 0.8598 - val_loss: 1.2535 - val_accuracy: 0.6914\n",
            "Epoch 44/100\n",
            "8/8 [==============================] - 22s 3s/step - loss: 0.2780 - accuracy: 0.8896 - val_loss: 1.2399 - val_accuracy: 0.6953\n",
            "Epoch 45/100\n",
            "8/8 [==============================] - 20s 3s/step - loss: 0.3294 - accuracy: 0.8509 - val_loss: 1.7056 - val_accuracy: 0.6445\n",
            "Epoch 46/100\n",
            "8/8 [==============================] - 20s 2s/step - loss: 0.2582 - accuracy: 0.9055 - val_loss: 1.8992 - val_accuracy: 0.6484\n",
            "Epoch 47/100\n",
            "8/8 [==============================] - 20s 2s/step - loss: 0.3374 - accuracy: 0.8443 - val_loss: 1.9002 - val_accuracy: 0.6289\n",
            "Epoch 48/100\n",
            "8/8 [==============================] - 20s 2s/step - loss: 0.3540 - accuracy: 0.8521 - val_loss: 1.2255 - val_accuracy: 0.6836\n",
            "Epoch 49/100\n",
            "8/8 [==============================] - 20s 2s/step - loss: 0.3248 - accuracy: 0.8509 - val_loss: 1.5598 - val_accuracy: 0.6406\n",
            "Epoch 50/100\n",
            "8/8 [==============================] - 20s 3s/step - loss: 0.2414 - accuracy: 0.9088 - val_loss: 1.0820 - val_accuracy: 0.7148\n",
            "Epoch 51/100\n",
            "8/8 [==============================] - 20s 3s/step - loss: 0.2831 - accuracy: 0.8910 - val_loss: 1.5561 - val_accuracy: 0.6641\n",
            "Epoch 52/100\n",
            "8/8 [==============================] - 20s 2s/step - loss: 0.2911 - accuracy: 0.8699 - val_loss: 2.1100 - val_accuracy: 0.6055\n",
            "Epoch 53/100\n",
            "8/8 [==============================] - 20s 2s/step - loss: 0.3214 - accuracy: 0.8610 - val_loss: 1.8366 - val_accuracy: 0.5898\n",
            "Epoch 54/100\n",
            "8/8 [==============================] - 20s 2s/step - loss: 0.2331 - accuracy: 0.9244 - val_loss: 2.2736 - val_accuracy: 0.5742\n",
            "Epoch 55/100\n",
            "8/8 [==============================] - 20s 2s/step - loss: 0.3178 - accuracy: 0.8710 - val_loss: 1.8236 - val_accuracy: 0.6406\n",
            "Epoch 56/100\n",
            "8/8 [==============================] - 20s 2s/step - loss: 0.2369 - accuracy: 0.9055 - val_loss: 2.1163 - val_accuracy: 0.6055\n",
            "Epoch 57/100\n",
            "8/8 [==============================] - 22s 3s/step - loss: 0.2087 - accuracy: 0.9199 - val_loss: 1.5974 - val_accuracy: 0.6719\n",
            "Epoch 58/100\n",
            "8/8 [==============================] - 20s 3s/step - loss: 0.2978 - accuracy: 0.8732 - val_loss: 2.6935 - val_accuracy: 0.5547\n",
            "Epoch 59/100\n",
            "8/8 [==============================] - 20s 3s/step - loss: 0.2245 - accuracy: 0.9177 - val_loss: 3.0926 - val_accuracy: 0.5547\n",
            "Epoch 60/100\n",
            "8/8 [==============================] - 20s 2s/step - loss: 0.2700 - accuracy: 0.8843 - val_loss: 3.0233 - val_accuracy: 0.5586\n",
            "Epoch 61/100\n",
            "8/8 [==============================] - 20s 2s/step - loss: 0.2727 - accuracy: 0.8888 - val_loss: 2.2058 - val_accuracy: 0.6211\n",
            "Epoch 62/100\n",
            "8/8 [==============================] - 22s 3s/step - loss: 0.2470 - accuracy: 0.8936 - val_loss: 1.6591 - val_accuracy: 0.6641\n",
            "Epoch 63/100\n",
            "8/8 [==============================] - 20s 2s/step - loss: 0.2580 - accuracy: 0.8921 - val_loss: 1.7951 - val_accuracy: 0.6445\n",
            "Epoch 64/100\n",
            "8/8 [==============================] - 20s 2s/step - loss: 0.2626 - accuracy: 0.8910 - val_loss: 1.9838 - val_accuracy: 0.6484\n",
            "Epoch 65/100\n",
            "8/8 [==============================] - 20s 2s/step - loss: 0.3151 - accuracy: 0.8988 - val_loss: 1.9322 - val_accuracy: 0.6406\n",
            "Epoch 66/100\n",
            "8/8 [==============================] - 20s 3s/step - loss: 0.1933 - accuracy: 0.9321 - val_loss: 2.3632 - val_accuracy: 0.6211\n",
            "Epoch 67/100\n",
            "8/8 [==============================] - 20s 2s/step - loss: 0.1862 - accuracy: 0.9299 - val_loss: 1.9189 - val_accuracy: 0.6641\n",
            "Epoch 68/100\n",
            "8/8 [==============================] - 20s 2s/step - loss: 0.2419 - accuracy: 0.8910 - val_loss: 2.0680 - val_accuracy: 0.6406\n",
            "Epoch 69/100\n",
            "8/8 [==============================] - 20s 2s/step - loss: 0.3355 - accuracy: 0.8799 - val_loss: 1.8088 - val_accuracy: 0.6445\n",
            "Epoch 70/100\n",
            "8/8 [==============================] - 20s 2s/step - loss: 0.1860 - accuracy: 0.9244 - val_loss: 2.2725 - val_accuracy: 0.6250\n",
            "Epoch 71/100\n",
            "8/8 [==============================] - 20s 2s/step - loss: 0.2539 - accuracy: 0.9032 - val_loss: 1.9486 - val_accuracy: 0.6484\n",
            "Epoch 72/100\n",
            "8/8 [==============================] - 20s 3s/step - loss: 0.1907 - accuracy: 0.9310 - val_loss: 3.0444 - val_accuracy: 0.5742\n",
            "Epoch 73/100\n",
            "8/8 [==============================] - 20s 2s/step - loss: 0.2718 - accuracy: 0.8821 - val_loss: 2.3640 - val_accuracy: 0.6211\n",
            "Epoch 74/100\n",
            "8/8 [==============================] - 20s 2s/step - loss: 0.2248 - accuracy: 0.9088 - val_loss: 3.6683 - val_accuracy: 0.5273\n",
            "Epoch 75/100\n",
            "8/8 [==============================] - 20s 2s/step - loss: 0.2206 - accuracy: 0.9143 - val_loss: 2.6105 - val_accuracy: 0.6094\n",
            "Epoch 76/100\n",
            "8/8 [==============================] - 22s 3s/step - loss: 0.1681 - accuracy: 0.9395 - val_loss: 2.7437 - val_accuracy: 0.6094\n",
            "Epoch 77/100\n",
            "8/8 [==============================] - 20s 2s/step - loss: 0.1806 - accuracy: 0.9299 - val_loss: 1.6248 - val_accuracy: 0.6953\n",
            "Epoch 78/100\n",
            "8/8 [==============================] - 20s 2s/step - loss: 0.2018 - accuracy: 0.9166 - val_loss: 1.9274 - val_accuracy: 0.6445\n",
            "Epoch 79/100\n",
            "8/8 [==============================] - 20s 2s/step - loss: 0.1672 - accuracy: 0.9355 - val_loss: 1.7059 - val_accuracy: 0.6836\n",
            "Epoch 80/100\n",
            "8/8 [==============================] - 20s 3s/step - loss: 0.2855 - accuracy: 0.8910 - val_loss: 2.5470 - val_accuracy: 0.6172\n",
            "Epoch 81/100\n",
            "8/8 [==============================] - 20s 2s/step - loss: 0.2200 - accuracy: 0.9166 - val_loss: 1.9426 - val_accuracy: 0.6523\n",
            "Epoch 82/100\n",
            "8/8 [==============================] - 20s 2s/step - loss: 0.1784 - accuracy: 0.9288 - val_loss: 2.7456 - val_accuracy: 0.6094\n",
            "Epoch 83/100\n",
            "8/8 [==============================] - 20s 2s/step - loss: 0.1646 - accuracy: 0.9321 - val_loss: 2.3170 - val_accuracy: 0.6367\n",
            "Epoch 84/100\n",
            "8/8 [==============================] - 20s 2s/step - loss: 0.2005 - accuracy: 0.9077 - val_loss: 1.6228 - val_accuracy: 0.6758\n",
            "Epoch 85/100\n",
            "8/8 [==============================] - 20s 2s/step - loss: 0.1647 - accuracy: 0.9388 - val_loss: 2.2031 - val_accuracy: 0.6406\n",
            "Epoch 86/100\n",
            "8/8 [==============================] - 20s 2s/step - loss: 0.2048 - accuracy: 0.9121 - val_loss: 2.2232 - val_accuracy: 0.6484\n",
            "Epoch 87/100\n",
            "8/8 [==============================] - 20s 2s/step - loss: 0.1425 - accuracy: 0.9488 - val_loss: 1.8881 - val_accuracy: 0.6758\n",
            "Epoch 88/100\n",
            "8/8 [==============================] - 20s 2s/step - loss: 0.1556 - accuracy: 0.9466 - val_loss: 4.4276 - val_accuracy: 0.5273\n",
            "Epoch 89/100\n",
            "8/8 [==============================] - 20s 2s/step - loss: 0.2334 - accuracy: 0.8943 - val_loss: 1.5611 - val_accuracy: 0.6914\n",
            "Epoch 90/100\n",
            "8/8 [==============================] - 20s 2s/step - loss: 0.1561 - accuracy: 0.9422 - val_loss: 2.1721 - val_accuracy: 0.6680\n",
            "Epoch 91/100\n",
            "8/8 [==============================] - 20s 2s/step - loss: 0.4718 - accuracy: 0.8932 - val_loss: 2.8505 - val_accuracy: 0.6094\n",
            "Epoch 92/100\n",
            "8/8 [==============================] - 20s 2s/step - loss: 0.1578 - accuracy: 0.9488 - val_loss: 2.9832 - val_accuracy: 0.6055\n",
            "Epoch 93/100\n",
            "8/8 [==============================] - 20s 2s/step - loss: 0.1175 - accuracy: 0.9633 - val_loss: 3.1060 - val_accuracy: 0.6133\n",
            "Epoch 94/100\n",
            "8/8 [==============================] - 20s 2s/step - loss: 0.1635 - accuracy: 0.9444 - val_loss: 4.9359 - val_accuracy: 0.5312\n",
            "Epoch 95/100\n",
            "8/8 [==============================] - 20s 2s/step - loss: 0.1921 - accuracy: 0.9188 - val_loss: 3.2776 - val_accuracy: 0.5898\n",
            "Epoch 96/100\n",
            "8/8 [==============================] - 20s 2s/step - loss: 0.2246 - accuracy: 0.9221 - val_loss: 2.0193 - val_accuracy: 0.6680\n",
            "Epoch 97/100\n",
            "8/8 [==============================] - 20s 2s/step - loss: 0.1573 - accuracy: 0.9399 - val_loss: 2.1899 - val_accuracy: 0.6523\n",
            "Epoch 98/100\n",
            "8/8 [==============================] - 20s 2s/step - loss: 0.2013 - accuracy: 0.9221 - val_loss: 2.9723 - val_accuracy: 0.5977\n",
            "Epoch 99/100\n",
            "8/8 [==============================] - 20s 3s/step - loss: 0.1318 - accuracy: 0.9555 - val_loss: 2.5886 - val_accuracy: 0.6406\n",
            "Epoch 100/100\n",
            "8/8 [==============================] - 20s 2s/step - loss: 0.1170 - accuracy: 0.9566 - val_loss: 4.1080 - val_accuracy: 0.5312\n"
          ],
          "name": "stdout"
        }
      ]
    },
    {
      "cell_type": "code",
      "metadata": {
        "colab": {
          "base_uri": "https://localhost:8080/",
          "height": 545
        },
        "id": "7zNPRWOVJdOH",
        "outputId": "ee5143cb-4ece-4f55-c995-d530bc81a344"
      },
      "source": [
        "import matplotlib.pyplot as plt\n",
        "acc = history.history['accuracy']\n",
        "val_acc = history.history['val_accuracy']\n",
        "loss = history.history['loss']\n",
        "val_loss = history.history['val_loss']\n",
        "\n",
        "epochs = range(len(acc))\n",
        "\n",
        "plt.plot(epochs, acc, 'r', label='Training accuracy')\n",
        "plt.plot(epochs, val_acc, 'b', label='Validation accuracy')\n",
        "plt.title('Training and validation accuracy')\n",
        "\n",
        "plt.figure()\n",
        "\n",
        "plt.plot(epochs, loss, 'r', label='Training Loss')\n",
        "plt.plot(epochs, val_loss, 'b', label='Validation Loss')\n",
        "plt.title('Training and validation loss')\n",
        "plt.legend()\n",
        "\n",
        "plt.show()"
      ],
      "execution_count": 8,
      "outputs": [
        {
          "output_type": "display_data",
          "data": {
            "image/png": "[encoded data removed]",
            "text/plain": [
              "<Figure size 432x288 with 1 Axes>"
            ]
          },
          "metadata": {
            "tags": [],
            "needs_background": "light"
          }
        },
        {
          "output_type": "display_data",
          "data": {
            "image/png": "[encoded data removed]",
            "text/plain": [
              "<Figure size 432x288 with 1 Axes>"
            ]
          },
          "metadata": {
            "tags": [],
            "needs_background": "light"
          }
        }
      ]
    },
    {
      "cell_type": "code",
      "metadata": {
        "id": "kWQ6-ZnbztMC"
      },
      "source": [
        ""
      ],
      "execution_count": null,
      "outputs": []
    }
  ]
}