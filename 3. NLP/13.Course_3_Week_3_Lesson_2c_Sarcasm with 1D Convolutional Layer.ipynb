{
  "nbformat": 4,
  "nbformat_minor": 0,
  "metadata": {
    "accelerator": "GPU",
    "colab": {
      "name": "Course 3 - Week 3 - Lesson 2c.ipynb",
      "provenance": [],
      "collapsed_sections": [],
      "toc_visible": true
    },
    "kernelspec": {
      "display_name": "Python 3",
      "language": "python",
      "name": "python3"
    },
    "language_info": {
      "codemirror_mode": {
        "name": "ipython",
        "version": 3
      },
      "file_extension": ".py",
      "mimetype": "text/x-python",
      "name": "python",
      "nbconvert_exporter": "python",
      "pygments_lexer": "ipython3",
      "version": "3.7.6"
    }
  },
  "cells": [
    {
      "cell_type": "code",
      "metadata": {
        "id": "zX4Kg8DUTKWO"
      },
      "source": [
        "#@title Licensed under the Apache License, Version 2.0 (the \"License\");\n",
        "# you may not use this file except in compliance with the License.\n",
        "# You may obtain a copy of the License at\n",
        "#\n",
        "# https://www.apache.org/licenses/LICENSE-2.0\n",
        "#\n",
        "# Unless required by applicable law or agreed to in writing, software\n",
        "# distributed under the License is distributed on an \"AS IS\" BASIS,\n",
        "# WITHOUT WARRANTIES OR CONDITIONS OF ANY KIND, either express or implied.\n",
        "# See the License for the specific language governing permissions and\n",
        "# limitations under the License."
      ],
      "execution_count": null,
      "outputs": []
    },
    {
      "cell_type": "markdown",
      "metadata": {
        "id": "P-UMz56Y-IKn"
      },
      "source": [
        "<a href=\"https://colab.research.google.com/github/lmoroney/dlaicourse/blob/master/TensorFlow%20In%20Practice/Course%203%20-%20NLP/Course%203%20-%20Week%203%20-%20Lesson%202c.ipynb\" target=\"_parent\"><img src=\"https://colab.research.google.com/assets/colab-badge.svg\" alt=\"Open In Colab\"/></a>"
      ]
    },
    {
      "cell_type": "code",
      "metadata": {
        "colab": {
          "base_uri": "https://localhost:8080/"
        },
        "id": "jGwXGIXvFhXW",
        "outputId": "418a378a-71ae-42d0-d302-d5e9e2e739a6"
      },
      "source": [
        "import numpy as np\n",
        "\n",
        "import json\n",
        "import tensorflow as tf\n",
        "\n",
        "from tensorflow.keras.preprocessing.text import Tokenizer\n",
        "from tensorflow.keras.preprocessing.sequence import pad_sequences\n",
        "\n",
        "!wget --no-check-certificate \\\n",
        "    https://storage.googleapis.com/laurencemoroney-blog.appspot.com/sarcasm.json \\\n",
        "    -O /tmp/sarcasm.json\n",
        "\n",
        "vocab_size = 1000\n",
        "embedding_dim = 16\n",
        "max_length = 120\n",
        "trunc_type='post'\n",
        "padding_type='post'\n",
        "oov_tok = \"<OOV>\"\n",
        "training_size = 20000\n",
        "\n",
        "\n",
        "with open(\"/tmp/sarcasm.json\", 'r') as f:\n",
        "    datastore = json.load(f)\n",
        "\n",
        "\n",
        "sentences = []\n",
        "labels = []\n",
        "urls = []\n",
        "for item in datastore:\n",
        "    sentences.append(item['headline'])\n",
        "    labels.append(item['is_sarcastic'])\n",
        "\n",
        "training_sentences = sentences[0:training_size]\n",
        "testing_sentences = sentences[training_size:]\n",
        "training_labels = labels[0:training_size]\n",
        "testing_labels = labels[training_size:]\n",
        "\n",
        "tokenizer = Tokenizer(num_words=vocab_size, oov_token=oov_tok)\n",
        "tokenizer.fit_on_texts(training_sentences)\n",
        "\n",
        "word_index = tokenizer.word_index\n",
        "\n",
        "training_sequences = tokenizer.texts_to_sequences(training_sentences)\n",
        "training_padded = pad_sequences(training_sequences, maxlen=max_length, padding=padding_type, truncating=trunc_type)\n",
        "\n",
        "testing_sequences = tokenizer.texts_to_sequences(testing_sentences)\n",
        "testing_padded = pad_sequences(testing_sequences, maxlen=max_length, padding=padding_type, truncating=trunc_type)\n",
        "\n",
        "model = tf.keras.Sequential([\n",
        "    tf.keras.layers.Embedding(vocab_size, embedding_dim, input_length=max_length),\n",
        "    tf.keras.layers.Conv1D(128, 5, activation='relu'),\n",
        "    tf.keras.layers.GlobalMaxPooling1D(),\n",
        "    tf.keras.layers.Dense(24, activation='relu'),\n",
        "    tf.keras.layers.Dense(1, activation='sigmoid')\n",
        "])\n",
        "model.compile(loss='binary_crossentropy',optimizer='adam',metrics=['accuracy'])\n",
        "model.summary()\n",
        "\n",
        "num_epochs = 50\n",
        "\n",
        "training_padded = np.array(training_padded)\n",
        "training_labels = np.array(training_labels)\n",
        "testing_padded = np.array(testing_padded)\n",
        "testing_labels = np.array(testing_labels)\n",
        "\n",
        "history = model.fit(training_padded, training_labels, epochs=num_epochs, validation_data=(testing_padded, testing_labels), verbose=1)\n"
      ],
      "execution_count": 1,
      "outputs": [
        {
          "output_type": "stream",
          "text": [
            "--2021-07-11 09:48:07--  https://storage.googleapis.com/laurencemoroney-blog.appspot.com/sarcasm.json\n",
            "Resolving storage.googleapis.com (storage.googleapis.com)... 142.250.101.128, 142.251.2.128, 142.250.141.128, ...\n",
            "Connecting to storage.googleapis.com (storage.googleapis.com)|142.250.101.128|:443... connected.\n",
            "HTTP request sent, awaiting response... 200 OK\n",
            "Length: 5643545 (5.4M) [application/json]\n",
            "Saving to: ‘/tmp/sarcasm.json’\n",
            "\n",
            "\r/tmp/sarcasm.json     0%[                    ]       0  --.-KB/s               \r/tmp/sarcasm.json   100%[===================>]   5.38M  --.-KB/s    in 0.02s   \n",
            "\n",
            "2021-07-11 09:48:07 (252 MB/s) - ‘/tmp/sarcasm.json’ saved [5643545/5643545]\n",
            "\n",
            "Model: \"sequential\"\n",
            "_________________________________________________________________\n",
            "Layer (type)                 Output Shape              Param #   \n",
            "=================================================================\n",
            "embedding (Embedding)        (None, 120, 16)           16000     \n",
            "_________________________________________________________________\n",
            "conv1d (Conv1D)              (None, 116, 128)          10368     \n",
            "_________________________________________________________________\n",
            "global_max_pooling1d (Global (None, 128)               0         \n",
            "_________________________________________________________________\n",
            "dense (Dense)                (None, 24)                3096      \n",
            "_________________________________________________________________\n",
            "dense_1 (Dense)              (None, 1)                 25        \n",
            "=================================================================\n",
            "Total params: 29,489\n",
            "Trainable params: 29,489\n",
            "Non-trainable params: 0\n",
            "_________________________________________________________________\n",
            "Epoch 1/50\n",
            "625/625 [==============================] - 34s 4ms/step - loss: 0.4773 - accuracy: 0.7576 - val_loss: 0.4113 - val_accuracy: 0.8132\n",
            "Epoch 2/50\n",
            "625/625 [==============================] - 2s 4ms/step - loss: 0.3586 - accuracy: 0.8390 - val_loss: 0.3962 - val_accuracy: 0.8185\n",
            "Epoch 3/50\n",
            "625/625 [==============================] - 2s 4ms/step - loss: 0.3206 - accuracy: 0.8584 - val_loss: 0.3947 - val_accuracy: 0.8237\n",
            "Epoch 4/50\n",
            "625/625 [==============================] - 2s 4ms/step - loss: 0.2891 - accuracy: 0.8758 - val_loss: 0.4090 - val_accuracy: 0.8238\n",
            "Epoch 5/50\n",
            "625/625 [==============================] - 2s 4ms/step - loss: 0.2570 - accuracy: 0.8913 - val_loss: 0.4357 - val_accuracy: 0.8158\n",
            "Epoch 6/50\n",
            "625/625 [==============================] - 2s 4ms/step - loss: 0.2246 - accuracy: 0.9038 - val_loss: 0.4618 - val_accuracy: 0.8188\n",
            "Epoch 7/50\n",
            "625/625 [==============================] - 2s 4ms/step - loss: 0.1895 - accuracy: 0.9241 - val_loss: 0.5036 - val_accuracy: 0.8110\n",
            "Epoch 8/50\n",
            "625/625 [==============================] - 2s 4ms/step - loss: 0.1597 - accuracy: 0.9384 - val_loss: 0.5537 - val_accuracy: 0.8109\n",
            "Epoch 9/50\n",
            "625/625 [==============================] - 2s 4ms/step - loss: 0.1304 - accuracy: 0.9495 - val_loss: 0.6223 - val_accuracy: 0.8013\n",
            "Epoch 10/50\n",
            "625/625 [==============================] - 3s 4ms/step - loss: 0.1075 - accuracy: 0.9606 - val_loss: 0.6965 - val_accuracy: 0.8019\n",
            "Epoch 11/50\n",
            "625/625 [==============================] - 2s 4ms/step - loss: 0.0875 - accuracy: 0.9693 - val_loss: 0.7886 - val_accuracy: 0.7979\n",
            "Epoch 12/50\n",
            "625/625 [==============================] - 2s 4ms/step - loss: 0.0755 - accuracy: 0.9745 - val_loss: 0.8596 - val_accuracy: 0.7967\n",
            "Epoch 13/50\n",
            "625/625 [==============================] - 2s 4ms/step - loss: 0.0626 - accuracy: 0.9779 - val_loss: 0.9496 - val_accuracy: 0.7921\n",
            "Epoch 14/50\n",
            "625/625 [==============================] - 2s 4ms/step - loss: 0.0578 - accuracy: 0.9786 - val_loss: 1.0401 - val_accuracy: 0.7910\n",
            "Epoch 15/50\n",
            "625/625 [==============================] - 2s 4ms/step - loss: 0.0513 - accuracy: 0.9804 - val_loss: 1.1007 - val_accuracy: 0.7879\n",
            "Epoch 16/50\n",
            "625/625 [==============================] - 2s 4ms/step - loss: 0.0429 - accuracy: 0.9846 - val_loss: 1.2329 - val_accuracy: 0.7877\n",
            "Epoch 17/50\n",
            "625/625 [==============================] - 2s 4ms/step - loss: 0.0400 - accuracy: 0.9850 - val_loss: 1.3032 - val_accuracy: 0.7895\n",
            "Epoch 18/50\n",
            "625/625 [==============================] - 2s 4ms/step - loss: 0.0368 - accuracy: 0.9851 - val_loss: 1.3767 - val_accuracy: 0.7872\n",
            "Epoch 19/50\n",
            "625/625 [==============================] - 2s 4ms/step - loss: 0.0354 - accuracy: 0.9869 - val_loss: 1.4240 - val_accuracy: 0.7803\n",
            "Epoch 20/50\n",
            "625/625 [==============================] - 2s 4ms/step - loss: 0.0384 - accuracy: 0.9858 - val_loss: 1.6088 - val_accuracy: 0.7857\n",
            "Epoch 21/50\n",
            "625/625 [==============================] - 2s 4ms/step - loss: 0.0423 - accuracy: 0.9825 - val_loss: 1.4606 - val_accuracy: 0.7897\n",
            "Epoch 22/50\n",
            "625/625 [==============================] - 2s 4ms/step - loss: 0.0303 - accuracy: 0.9879 - val_loss: 1.5240 - val_accuracy: 0.7860\n",
            "Epoch 23/50\n",
            "625/625 [==============================] - 2s 4ms/step - loss: 0.0299 - accuracy: 0.9878 - val_loss: 1.6780 - val_accuracy: 0.7852\n",
            "Epoch 24/50\n",
            "625/625 [==============================] - 2s 4ms/step - loss: 0.0273 - accuracy: 0.9890 - val_loss: 1.6378 - val_accuracy: 0.7816\n",
            "Epoch 25/50\n",
            "625/625 [==============================] - 2s 4ms/step - loss: 0.0252 - accuracy: 0.9900 - val_loss: 1.7145 - val_accuracy: 0.7825\n",
            "Epoch 26/50\n",
            "625/625 [==============================] - 2s 4ms/step - loss: 0.0245 - accuracy: 0.9897 - val_loss: 1.7811 - val_accuracy: 0.7882\n",
            "Epoch 27/50\n",
            "625/625 [==============================] - 2s 4ms/step - loss: 0.0294 - accuracy: 0.9873 - val_loss: 1.8319 - val_accuracy: 0.7842\n",
            "Epoch 28/50\n",
            "625/625 [==============================] - 2s 4ms/step - loss: 0.0333 - accuracy: 0.9869 - val_loss: 1.7973 - val_accuracy: 0.7845\n",
            "Epoch 29/50\n",
            "625/625 [==============================] - 2s 4ms/step - loss: 0.0282 - accuracy: 0.9883 - val_loss: 1.8084 - val_accuracy: 0.7854\n",
            "Epoch 30/50\n",
            "625/625 [==============================] - 3s 4ms/step - loss: 0.0230 - accuracy: 0.9901 - val_loss: 1.9117 - val_accuracy: 0.7930\n",
            "Epoch 31/50\n",
            "625/625 [==============================] - 2s 4ms/step - loss: 0.0245 - accuracy: 0.9902 - val_loss: 1.9808 - val_accuracy: 0.7845\n",
            "Epoch 32/50\n",
            "625/625 [==============================] - 2s 4ms/step - loss: 0.0233 - accuracy: 0.9903 - val_loss: 2.0017 - val_accuracy: 0.7895\n",
            "Epoch 33/50\n",
            "625/625 [==============================] - 2s 4ms/step - loss: 0.0256 - accuracy: 0.9899 - val_loss: 2.1199 - val_accuracy: 0.7860\n",
            "Epoch 34/50\n",
            "625/625 [==============================] - 2s 4ms/step - loss: 0.0290 - accuracy: 0.9879 - val_loss: 2.0208 - val_accuracy: 0.7892\n",
            "Epoch 35/50\n",
            "625/625 [==============================] - 2s 4ms/step - loss: 0.0256 - accuracy: 0.9890 - val_loss: 2.0610 - val_accuracy: 0.7860\n",
            "Epoch 36/50\n",
            "625/625 [==============================] - 2s 4ms/step - loss: 0.0219 - accuracy: 0.9908 - val_loss: 2.0305 - val_accuracy: 0.7934\n",
            "Epoch 37/50\n",
            "625/625 [==============================] - 2s 4ms/step - loss: 0.0207 - accuracy: 0.9903 - val_loss: 2.0640 - val_accuracy: 0.7891\n",
            "Epoch 38/50\n",
            "625/625 [==============================] - 2s 4ms/step - loss: 0.0194 - accuracy: 0.9918 - val_loss: 2.1701 - val_accuracy: 0.7889\n",
            "Epoch 39/50\n",
            "625/625 [==============================] - 2s 4ms/step - loss: 0.0244 - accuracy: 0.9891 - val_loss: 2.2426 - val_accuracy: 0.7851\n",
            "Epoch 40/50\n",
            "625/625 [==============================] - 3s 4ms/step - loss: 0.0286 - accuracy: 0.9887 - val_loss: 2.2756 - val_accuracy: 0.7903\n",
            "Epoch 41/50\n",
            "625/625 [==============================] - 2s 4ms/step - loss: 0.0217 - accuracy: 0.9908 - val_loss: 2.3242 - val_accuracy: 0.7866\n",
            "Epoch 42/50\n",
            "625/625 [==============================] - 2s 4ms/step - loss: 0.0216 - accuracy: 0.9911 - val_loss: 2.2259 - val_accuracy: 0.7831\n",
            "Epoch 43/50\n",
            "625/625 [==============================] - 2s 4ms/step - loss: 0.0172 - accuracy: 0.9922 - val_loss: 2.3633 - val_accuracy: 0.7904\n",
            "Epoch 44/50\n",
            "625/625 [==============================] - 2s 4ms/step - loss: 0.0185 - accuracy: 0.9919 - val_loss: 2.3053 - val_accuracy: 0.7889\n",
            "Epoch 45/50\n",
            "625/625 [==============================] - 2s 4ms/step - loss: 0.0255 - accuracy: 0.9892 - val_loss: 2.3638 - val_accuracy: 0.7897\n",
            "Epoch 46/50\n",
            "625/625 [==============================] - 2s 4ms/step - loss: 0.0219 - accuracy: 0.9906 - val_loss: 2.3732 - val_accuracy: 0.7891\n",
            "Epoch 47/50\n",
            "625/625 [==============================] - 2s 4ms/step - loss: 0.0178 - accuracy: 0.9921 - val_loss: 2.4322 - val_accuracy: 0.7894\n",
            "Epoch 48/50\n",
            "625/625 [==============================] - 2s 4ms/step - loss: 0.0167 - accuracy: 0.9927 - val_loss: 2.5321 - val_accuracy: 0.7891\n",
            "Epoch 49/50\n",
            "625/625 [==============================] - 2s 4ms/step - loss: 0.0242 - accuracy: 0.9903 - val_loss: 2.4337 - val_accuracy: 0.7851\n",
            "Epoch 50/50\n",
            "625/625 [==============================] - 2s 4ms/step - loss: 0.0172 - accuracy: 0.9918 - val_loss: 2.5402 - val_accuracy: 0.7904\n"
          ],
          "name": "stdout"
        }
      ]
    },
    {
      "cell_type": "code",
      "metadata": {
        "colab": {
          "base_uri": "https://localhost:8080/",
          "height": 542
        },
        "id": "g9DC6dmLF8DC",
        "outputId": "d333ac6d-e7e9-415a-d2c2-abbc1e435117"
      },
      "source": [
        "import matplotlib.pyplot as plt\n",
        "\n",
        "\n",
        "def plot_graphs(history, string):\n",
        "  plt.plot(history.history[string])\n",
        "  plt.plot(history.history['val_'+string])\n",
        "  plt.xlabel(\"Epochs\")\n",
        "  plt.ylabel(string)\n",
        "  plt.legend([string, 'val_'+string])\n",
        "  plt.show()\n",
        "\n",
        "plot_graphs(history, 'accuracy')\n",
        "plot_graphs(history, 'loss')"
      ],
      "execution_count": 2,
      "outputs": [
        {
          "output_type": "display_data",
          "data": {
            "image/png": "[encoded data removed]",
            "text/plain": [
              "<Figure size 432x288 with 1 Axes>"
            ]
          },
          "metadata": {
            "tags": [],
            "needs_background": "light"
          }
        },
        {
          "output_type": "display_data",
          "data": {
            "image/png": "[encoded data removed]",
            "text/plain": [
              "<Figure size 432x288 with 1 Axes>"
            ]
          },
          "metadata": {
            "tags": [],
            "needs_background": "light"
          }
        }
      ]
    },
    {
      "cell_type": "code",
      "metadata": {
        "id": "7ZEZIUppGhdi"
      },
      "source": [
        "model.save(\"test.h5\")"
      ],
      "execution_count": null,
      "outputs": []
    }
  ]
}